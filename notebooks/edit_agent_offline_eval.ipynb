{
  "cells": [
    {
      "cell_type": "markdown",
      "metadata": {},
      "source": [
        "# Edit-Agent Offline Evaluation\n",
        "\n",
        "This notebook demonstrates offline evaluation of the Edit-Agent on held-out data with detailed analysis.\n"
      ]
    },
    {
      "cell_type": "code",
      "execution_count": null,
      "metadata": {},
      "outputs": [],
      "source": [
        "import sys\n",
        "import os\n",
        "sys.path.append(os.path.dirname(os.path.dirname(__file__)))\n",
        "\n",
        "import numpy as np\n",
        "import pandas as pd\n",
        "import matplotlib.pyplot as plt\n",
        "import torch\n",
        "from envs.edit_env import EditAgentEnv\n",
        "from models.policy_edit import create_edit_policy\n",
        "from grpo.grpo_core import create_grpo_trainer\n",
        "\n",
        "# Set random seed for reproducibility\n",
        "torch.manual_seed(42)\n",
        "np.random.seed(42)\n"
      ]
    },
    {
      "cell_type": "markdown",
      "metadata": {},
      "source": [
        "## 1. Data Analysis\n",
        "\n",
        "Let's examine the edit dataset and understand the task distribution.\n"
      ]
    }
  ],
  "metadata": {
    "language_info": {
      "name": "python"
    }
  },
  "nbformat": 4,
  "nbformat_minor": 2
}
