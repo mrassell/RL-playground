{
  "cells": [
    {
      "cell_type": "markdown",
      "metadata": {},
      "source": [
        "# GRPO Tic-Tac-Toe Explainer\n",
        "\n",
        "This notebook demonstrates the GRPO algorithm on Tic-Tac-Toe with detailed explanations and visualizations.\n"
      ]
    },
    {
      "cell_type": "code",
      "execution_count": null,
      "metadata": {},
      "outputs": [],
      "source": [
        "import sys\n",
        "import os\n",
        "sys.path.append(os.path.dirname(os.path.dirname(__file__)))\n",
        "\n",
        "import numpy as np\n",
        "import matplotlib.pyplot as plt\n",
        "import torch\n",
        "from envs.ttt_env import TicTacToeEnv, OpponentType\n",
        "from models.policy_ttt import create_ttt_policy\n",
        "from grpo.grpo_core import create_grpo_trainer\n",
        "\n",
        "# Set random seed for reproducibility\n",
        "torch.manual_seed(42)\n",
        "np.random.seed(42)\n"
      ]
    },
    {
      "cell_type": "markdown",
      "metadata": {},
      "source": [
        "## 1. Environment Setup\n",
        "\n",
        "Let's create a Tic-Tac-Toe environment and examine its properties.\n"
      ]
    },
    {
      "cell_type": "code",
      "execution_count": null,
      "metadata": {},
      "outputs": [],
      "source": [
        "# Create environment\n",
        "env = TicTacToeEnv(\n",
        "    win_reward=1.0,\n",
        "    draw_reward=0.0,\n",
        "    loss_penalty=-1.0,\n",
        "    center_bonus=0.1,\n",
        "    fork_bonus=0.2,\n",
        "    illegal_move_penalty=-10.0,\n",
        "    opponent_type=OpponentType.RANDOM\n",
        ")\n",
        "\n",
        "print(\"Environment created successfully!\")\n",
        "print(f\"Win reward: {env.win_reward}\")\n",
        "print(f\"Draw reward: {env.draw_reward}\")\n",
        "print(f\"Loss penalty: {env.loss_penalty}\")\n",
        "print(f\"Center bonus: {env.center_bonus}\")\n",
        "print(f\"Fork bonus: {env.fork_bonus}\")\n"
      ]
    }
  ],
  "metadata": {
    "language_info": {
      "name": "python"
    }
  },
  "nbformat": 4,
  "nbformat_minor": 2
}
